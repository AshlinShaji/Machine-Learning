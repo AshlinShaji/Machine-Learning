{
 "cells": [
  {
   "cell_type": "code",
   "execution_count": 2,
   "id": "61ea9c11",
   "metadata": {},
   "outputs": [],
   "source": [
    "import numpy as np\n",
    "import pandas as pd\n",
    "\n",
    "# Day=[1, 2, 3, 4, 5, 6, 7, 8, 9, 10, 11, 12, 13, 14],\n",
    "outlook = np.array(['Sunny', 'Sunny', 'Overcast', 'Rain', 'Rain', 'Rain', 'Overcast', \n",
    "                    'Sunny', 'Sunny', 'Rain', 'Sunny', 'Overcast', 'Overcast', 'Rain'])\n",
    "\n",
    "temperature = np.array([\"Hot\", \"Hot\", \"Hot\", \"Mild\", \"Cool\", \"Cool\", \"Cool\", \n",
    "                       \"Mild\", \"Cool\", \"Mild\", \"Mild\", \"Mild\", \"Hot\", \"Mild\"])\n",
    "\n",
    "humidity = np.array([\"High\", \"High\", \"High\", \"High\", \"Normal\", \"Normal\", \"Normal\", \n",
    "                     \"High\", \"Normal\", \"Normal\", \"Normal\", \"High\", \"Normal\", \"High\"])\n",
    "\n",
    "wind = np.array([\"Weak\", \"Strong\", \"Weak\", \"Weak\", \"Weak\", \"Strong\", \"Strong\", \n",
    "                 \"Weak\", \"Weak\", \"Weak\", \"Strong\", \"Strong\", \"Weak\", \"Strong\"])\n",
    "\n",
    "play = np.array([\"No\", \"No\", \"Yes\", \"Yes\", \"Yes\", \"No\", \"Yes\", \n",
    "                 \"No\", \"Yes\", \"Yes\", \"Yes\", \"Yes\", \"Yes\", \"No\"])\n",
    "\n"
   ]
  },
  {
   "cell_type": "code",
   "execution_count": 3,
   "id": "250a2d16",
   "metadata": {},
   "outputs": [
    {
     "data": {
      "text/plain": [
       "array([2, 2, 0, 1, 1, 1, 0, 2, 2, 1, 2, 0, 0, 1])"
      ]
     },
     "execution_count": 3,
     "metadata": {},
     "output_type": "execute_result"
    }
   ],
   "source": [
    "#Encoding\n",
    "\n",
    "from sklearn.preprocessing import LabelEncoder\n",
    "lab=LabelEncoder()\n",
    "outlook_encoder=lab.fit_transform(outlook)\n",
    "outlook_encoder\n"
   ]
  },
  {
   "cell_type": "code",
   "execution_count": 4,
   "id": "405896ce",
   "metadata": {},
   "outputs": [
    {
     "data": {
      "text/plain": [
       "array([1, 1, 1, 2, 0, 0, 0, 2, 0, 2, 2, 2, 1, 2])"
      ]
     },
     "execution_count": 4,
     "metadata": {},
     "output_type": "execute_result"
    }
   ],
   "source": [
    "temperature_encoder=lab.fit_transform(temperature)\n",
    "temperature_encoder"
   ]
  },
  {
   "cell_type": "code",
   "execution_count": 5,
   "id": "40516ae5",
   "metadata": {},
   "outputs": [
    {
     "data": {
      "text/plain": [
       "array([0, 0, 0, 0, 1, 1, 1, 0, 1, 1, 1, 0, 1, 0])"
      ]
     },
     "execution_count": 5,
     "metadata": {},
     "output_type": "execute_result"
    }
   ],
   "source": [
    "humidity_encoder=lab.fit_transform(humidity)\n",
    "humidity_encoder"
   ]
  },
  {
   "cell_type": "code",
   "execution_count": 6,
   "id": "6dc2bfbf",
   "metadata": {},
   "outputs": [
    {
     "data": {
      "text/plain": [
       "array([1, 0, 1, 1, 1, 0, 0, 1, 1, 1, 0, 0, 1, 0])"
      ]
     },
     "execution_count": 6,
     "metadata": {},
     "output_type": "execute_result"
    }
   ],
   "source": [
    "wind_encoder=lab.fit_transform(wind)\n",
    "wind_encoder"
   ]
  },
  {
   "cell_type": "code",
   "execution_count": 7,
   "id": "76eed79e",
   "metadata": {},
   "outputs": [
    {
     "data": {
      "text/plain": [
       "[(np.int64(2), np.int64(1), np.int64(0), np.int64(1)),\n",
       " (np.int64(2), np.int64(1), np.int64(0), np.int64(0)),\n",
       " (np.int64(0), np.int64(1), np.int64(0), np.int64(1)),\n",
       " (np.int64(1), np.int64(2), np.int64(0), np.int64(1)),\n",
       " (np.int64(1), np.int64(0), np.int64(1), np.int64(1)),\n",
       " (np.int64(1), np.int64(0), np.int64(1), np.int64(0)),\n",
       " (np.int64(0), np.int64(0), np.int64(1), np.int64(0)),\n",
       " (np.int64(2), np.int64(2), np.int64(0), np.int64(1)),\n",
       " (np.int64(2), np.int64(0), np.int64(1), np.int64(1)),\n",
       " (np.int64(1), np.int64(2), np.int64(1), np.int64(1)),\n",
       " (np.int64(2), np.int64(2), np.int64(1), np.int64(0)),\n",
       " (np.int64(0), np.int64(2), np.int64(0), np.int64(0)),\n",
       " (np.int64(0), np.int64(1), np.int64(1), np.int64(1)),\n",
       " (np.int64(1), np.int64(2), np.int64(0), np.int64(0))]"
      ]
     },
     "execution_count": 7,
     "metadata": {},
     "output_type": "execute_result"
    }
   ],
   "source": [
    "feature=list(zip(outlook_encoder,temperature_encoder,humidity_encoder,wind_encoder))\n",
    "feature"
   ]
  },
  {
   "cell_type": "code",
   "execution_count": 9,
   "id": "2ae09fe5",
   "metadata": {},
   "outputs": [
    {
     "name": "stdout",
     "output_type": "stream",
     "text": [
      "['No']\n"
     ]
    }
   ],
   "source": [
    "from sklearn.naive_bayes import MultinomialNB\n",
    "model=MultinomialNB()\n",
    "model.fit(feature,play)\n",
    "print(model.predict([[2, 0, 0, 0]]))\n"
   ]
  }
 ],
 "metadata": {
  "kernelspec": {
   "display_name": "Python 3",
   "language": "python",
   "name": "python3"
  },
  "language_info": {
   "codemirror_mode": {
    "name": "ipython",
    "version": 3
   },
   "file_extension": ".py",
   "mimetype": "text/x-python",
   "name": "python",
   "nbconvert_exporter": "python",
   "pygments_lexer": "ipython3",
   "version": "3.13.6"
  }
 },
 "nbformat": 4,
 "nbformat_minor": 5
}
